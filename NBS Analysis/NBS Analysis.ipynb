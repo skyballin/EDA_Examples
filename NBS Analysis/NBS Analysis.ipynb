{
 "metadata": {
  "name": "",
  "signature": "sha256:1cb55015de48281e8787f1700919428ff33576de9ba783fd245b3cf04ec40b38"
 },
 "nbformat": 3,
 "nbformat_minor": 0,
 "worksheets": [
  {
   "cells": [
    {
     "cell_type": "heading",
     "level": 1,
     "metadata": {},
     "source": [
      "NEXT BIG SOUND - Data Science Project"
     ]
    },
    {
     "cell_type": "raw",
     "metadata": {},
     "source": [
      "Not sure what this project will be about yet. Need to explore the data to come up with something"
     ]
    },
    {
     "cell_type": "raw",
     "metadata": {},
     "source": [
      "PROJECT IDEA 1 - OUT OF SCOPE HAHAH\n",
      "- Tour route optimization\n",
      "    - Regional statistics for fans\n",
      "    - Festivals and dates\n",
      "        - Festival data located at www.festivalnet.com? Manually enter it?\n",
      "        - Festival genre as it relates to artist genre?\n",
      "        - Festival dates?\n",
      "    - Modes of transportation\n",
      "        - Average cost of transportation (based on mode and distance between two festival locations)\n",
      "    - Parameters for a \"tour route\"\n",
      "        - travel days\n",
      "        - travel expenses\n",
      "PROJECT IDEA 2 - SOCIAL MEDIA PREDICTIONS\n",
      "- Predict YouTube views (or other output????) using social media metrics\n",
      "PROJECT IDEA 3\n",
      "PROJECT IDEA 4\n",
      "PROJECT IDEA 5\n"
     ]
    },
    {
     "cell_type": "code",
     "collapsed": false,
     "input": [
      "# standard library:\n",
      "import os  \n",
      "\n",
      "from pprint import pprint\n",
      "\n",
      "# other modules:\n",
      "import matplotlib.pyplot as plt\n",
      "import pandas as pd\n",
      "import twitter\n",
      "import yaml\n",
      "\n",
      "from pymongo import MongoClient\n",
      "#API Key: ajayanand\n",
      "#Docs: http://ajayanand.api3.nextbigsound.com"
     ],
     "language": "python",
     "metadata": {},
     "outputs": [],
     "prompt_number": 1
    },
    {
     "cell_type": "code",
     "collapsed": false,
     "input": [
      "genres = http://ajayanand.api3.nextbigsound.com/genre/artist/ARTIST-ID.xml"
     ],
     "language": "python",
     "metadata": {},
     "outputs": [
      {
       "ename": "SyntaxError",
       "evalue": "invalid syntax (<ipython-input-2-aaa59974f4aa>, line 1)",
       "output_type": "pyerr",
       "traceback": [
        "\u001b[1;36m  File \u001b[1;32m\"<ipython-input-2-aaa59974f4aa>\"\u001b[1;36m, line \u001b[1;32m1\u001b[0m\n\u001b[1;33m    genres = http://ajayanand.api3.nextbigsound.com/genre/artist/ARTIST-ID.xml\u001b[0m\n\u001b[1;37m                 ^\u001b[0m\n\u001b[1;31mSyntaxError\u001b[0m\u001b[1;31m:\u001b[0m invalid syntax\n"
       ]
      }
     ],
     "prompt_number": 2
    },
    {
     "cell_type": "code",
     "collapsed": false,
     "input": [],
     "language": "python",
     "metadata": {},
     "outputs": []
    }
   ],
   "metadata": {}
  }
 ]
}